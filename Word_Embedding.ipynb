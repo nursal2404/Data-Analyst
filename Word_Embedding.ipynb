{
  "nbformat": 4,
  "nbformat_minor": 0,
  "metadata": {
    "colab": {
      "provenance": []
    },
    "kernelspec": {
      "name": "python3",
      "display_name": "Python 3"
    },
    "language_info": {
      "name": "python"
    }
  },
  "cells": [
    {
      "cell_type": "markdown",
      "source": [
        "# **GloVe (Global Vectors for Word Representation)**\n",
        "\n",
        "Referensi :\n",
        "[GloVe-tutorial.ipynb](https://github.com/sebtheiler/tutorials/blob/main/using-pretrained-glove-vectors/GloVe-tutorial.ipynb)"
      ],
      "metadata": {
        "id": "VhDmeTeZpcfz"
      }
    },
    {
      "cell_type": "code",
      "execution_count": null,
      "metadata": {
        "id": "dqXM6y5eqxq-"
      },
      "outputs": [],
      "source": [
        "import numpy as np\n",
        "import matplotlib.pyplot as plt\n",
        "from sklearn.manifold import TSNE"
      ]
    },
    {
      "cell_type": "code",
      "source": [
        "def create_embeddings_dict(corpus):\n",
        "    embeddings_dict = {}\n",
        "\n",
        "    for line in corpus:\n",
        "        values = line.split()\n",
        "        word = values[0]\n",
        "        vector = np.asarray(values[1:], \"float32\")\n",
        "        embeddings_dict[word] = vector\n",
        "\n",
        "    return embeddings_dict"
      ],
      "metadata": {
        "id": "fBZoVuwivPLM"
      },
      "execution_count": null,
      "outputs": []
    },
    {
      "cell_type": "code",
      "source": [
        "def find_closest_embeddings(embedding, embeddings_dict):\n",
        "    return sorted(embeddings_dict.keys(), key=lambda word: np.linalg.norm(embeddings_dict[word] - embedding))"
      ],
      "metadata": {
        "id": "trW6wdmavW0K"
      },
      "execution_count": null,
      "outputs": []
    },
    {
      "cell_type": "code",
      "source": [
        "example_corpus = [\n",
        "    \"Nama 0.1 0.2 0.3\",\n",
        "    \"Saya 0.2 0.3 0.4\",\n",
        "    \"Muhadzib 0.3 0.4 0.5\",\n",
        "    \"Nursaid 0.4 0.5 0.6\",\n",
        "    \"Mahasiswa 0.7 0.8 0.9\",\n",
        "]"
      ],
      "metadata": {
        "id": "lOv6bVDxvb8F"
      },
      "execution_count": null,
      "outputs": []
    },
    {
      "cell_type": "markdown",
      "source": [
        "Mencari Teks yang berdekatan sesuai dengan Vektor Numerik pada Corpus"
      ],
      "metadata": {
        "id": "iW0Ej0l6xchr"
      }
    },
    {
      "cell_type": "code",
      "source": [
        "# Buat kamus embeddings dari corpus\n",
        "example_embeddings_dict = create_embeddings_dict(example_corpus)\n",
        "\n",
        "# Contoh penggunaan:\n",
        "print(example_embeddings_dict[\"Saya\"])\n",
        "print(find_closest_embeddings(example_embeddings_dict[\"Saya\"], example_embeddings_dict)[1:6])"
      ],
      "metadata": {
        "colab": {
          "base_uri": "https://localhost:8080/"
        },
        "id": "Rr6WOTJTvgH7",
        "outputId": "6bcff237-ae63-4f1b-8fdd-e6ba986cc1f5"
      },
      "execution_count": null,
      "outputs": [
        {
          "output_type": "stream",
          "name": "stdout",
          "text": [
            "[0.2 0.3 0.4]\n",
            "['Nama', 'Muhadzib', 'Nursaid', 'Mahasiswa']\n"
          ]
        }
      ]
    },
    {
      "cell_type": "code",
      "source": [
        "# Visualisasi menggunakan t-SNE\n",
        "tsne = TSNE(n_components=2, random_state=0, perplexity=4)\n",
        "words = list(example_embeddings_dict.keys())\n",
        "vectors = np.array([example_embeddings_dict[word] for word in words])  # Mengubah ke array NumPy\n",
        "Y = tsne.fit_transform(vectors)\n",
        "\n",
        "# Scatter plot\n",
        "plt.figure(figsize=(10, 8))\n",
        "plt.scatter(Y[:, 0], Y[:, 1])\n",
        "\n",
        "# Anotasi kata pada plot\n",
        "for label, x, y in zip(words, Y[:, 0], Y[:, 1]):\n",
        "    plt.annotate(label, xy=(x, y), xytext=(0, 0), textcoords=\"offset points\")\n",
        "\n",
        "plt.show()"
      ],
      "metadata": {
        "colab": {
          "base_uri": "https://localhost:8080/",
          "height": 676
        },
        "id": "nHBAO0lCviDr",
        "outputId": "a4e16912-7697-432b-a032-cf78363803f4"
      },
      "execution_count": null,
      "outputs": [
        {
          "output_type": "display_data",
          "data": {
            "text/plain": [
              "<Figure size 1000x800 with 1 Axes>"
            ],
            "image/png": "[encoded data removed]"
          },
          "metadata": {}
        }
      ]
    },
    {
      "cell_type": "markdown",
      "source": [
        "# **FastText**"
      ],
      "metadata": {
        "id": "80PrXSBj1V81"
      }
    },
    {
      "cell_type": "code",
      "source": [
        "from gensim.models import FastText\n",
        "import numpy as np\n",
        "from scipy import spatial\n",
        "import matplotlib.pyplot as plt\n",
        "from sklearn.manifold import TSNE"
      ],
      "metadata": {
        "id": "e1Ko5cZZ1YXQ"
      },
      "execution_count": null,
      "outputs": []
    },
    {
      "cell_type": "code",
      "source": [
        "fasttext_corpus = [\n",
        "    [\"Nama\", \"Saya\"],\n",
        "    [\"Muhadzib\", \"Nursaid\"],\n",
        "    [\"Panggilan\", \"Nursal\"],\n",
        "    [\"Bisa juga\", \"Azib\"],\n",
        "]"
      ],
      "metadata": {
        "id": "7b_faVMM4QFe"
      },
      "execution_count": null,
      "outputs": []
    },
    {
      "cell_type": "code",
      "source": [
        "# Melatih model FastText\n",
        "fasttext_model = FastText(sentences=fasttext_corpus, vector_size=3, window=5, min_count=1, workers=4)"
      ],
      "metadata": {
        "id": "-KXnsQDC4UsM"
      },
      "execution_count": null,
      "outputs": []
    },
    {
      "cell_type": "markdown",
      "source": [
        "Mencari Teks yang berdekatan sesuai dengan Sub Kata pada Corpus"
      ],
      "metadata": {
        "id": "YpBJXa2W54mG"
      }
    },
    {
      "cell_type": "code",
      "source": [
        "# Fungsi untuk mencari kata-kata yang paling mirip\n",
        "def find_closest_embeddings(embedding, model, top_n=5):\n",
        "    return model.wv.similar_by_vector(embedding, topn=top_n)\n",
        "\n",
        "# Contoh penggunaan:\n",
        "print(fasttext_model.wv['Nama']) #Membuat Vektor Dimensi\n",
        "print(find_closest_embeddings(fasttext_model.wv['Nama'], fasttext_model, top_n=5))"
      ],
      "metadata": {
        "colab": {
          "base_uri": "https://localhost:8080/"
        },
        "id": "vPtY1Way4X7M",
        "outputId": "5dad0f30-a9c4-40d0-85aa-2a91f38e170c"
      },
      "execution_count": null,
      "outputs": [
        {
          "output_type": "stream",
          "name": "stdout",
          "text": [
            "[-0.05337069 -0.00285936 -0.00927911]\n",
            "[('Nama', 1.0), ('Saya', 0.9784554243087769), ('Bisa juga', 0.8032452464103699), ('Nursaid', 0.6985962986946106), ('Azib', 0.42069417238235474)]\n"
          ]
        }
      ]
    },
    {
      "cell_type": "code",
      "source": [
        "# Visualisasi menggunakan t-SNE\n",
        "tsne = TSNE(n_components=2, random_state=0, perplexity=3)\n",
        "words = list(fasttext_model.wv.key_to_index.keys())\n",
        "vectors = np.array([fasttext_model.wv[word] for word in words])\n",
        "Y = tsne.fit_transform(vectors)\n",
        "\n",
        "# Scatter plot\n",
        "plt.figure(figsize=(10, 8))\n",
        "plt.scatter(Y[:, 0], Y[:, 1])\n",
        "\n",
        "# Anotasi kata pada plot\n",
        "for label, x, y in zip(words, Y[:, 0], Y[:, 1]):\n",
        "    plt.annotate(label, xy=(x, y), xytext=(0, 0), textcoords=\"offset points\")\n",
        "\n",
        "plt.show()"
      ],
      "metadata": {
        "colab": {
          "base_uri": "https://localhost:8080/",
          "height": 676
        },
        "id": "AGGmNU_n4ac9",
        "outputId": "1b4703c1-3451-46c8-eeb6-2ad98d5b7c25"
      },
      "execution_count": null,
      "outputs": [
        {
          "output_type": "display_data",
          "data": {
            "text/plain": [
              "<Figure size 1000x800 with 1 Axes>"
            ],
            "image/png": "[encoded data removed]"
          },
          "metadata": {}
        }
      ]
    }
  ]
}